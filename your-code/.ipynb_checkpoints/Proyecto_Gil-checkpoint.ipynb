{
 "cells": [
  {
   "cell_type": "code",
   "execution_count": 1,
   "metadata": {},
   "outputs": [],
   "source": [
    "import pandas as pd\n",
    "import numpy as np\n",
    "import matplotlib.pyplot as plt\n",
    "import seaborn as sns\n",
    "%matplotlib inline"
   ]
  },
  {
   "cell_type": "code",
   "execution_count": 6,
   "metadata": {},
   "outputs": [],
   "source": [
    "parks = pd.read_csv('parks.csv')\n",
    "species = pd.read_csv('species.csv', low_memory=False)"
   ]
  },
  {
   "cell_type": "code",
   "execution_count": 9,
   "metadata": {},
   "outputs": [
    {
     "data": {
      "text/html": [
       "<div>\n",
       "<style scoped>\n",
       "    .dataframe tbody tr th:only-of-type {\n",
       "        vertical-align: middle;\n",
       "    }\n",
       "\n",
       "    .dataframe tbody tr th {\n",
       "        vertical-align: top;\n",
       "    }\n",
       "\n",
       "    .dataframe thead th {\n",
       "        text-align: right;\n",
       "    }\n",
       "</style>\n",
       "<table border=\"1\" class=\"dataframe\">\n",
       "  <thead>\n",
       "    <tr style=\"text-align: right;\">\n",
       "      <th></th>\n",
       "      <th>Park Code</th>\n",
       "      <th>Park Name</th>\n",
       "      <th>State</th>\n",
       "      <th>Acres</th>\n",
       "      <th>Latitude</th>\n",
       "      <th>Longitude</th>\n",
       "    </tr>\n",
       "  </thead>\n",
       "  <tbody>\n",
       "    <tr>\n",
       "      <th>0</th>\n",
       "      <td>ACAD</td>\n",
       "      <td>Acadia National Park</td>\n",
       "      <td>ME</td>\n",
       "      <td>47390</td>\n",
       "      <td>44.35</td>\n",
       "      <td>-68.21</td>\n",
       "    </tr>\n",
       "    <tr>\n",
       "      <th>1</th>\n",
       "      <td>ARCH</td>\n",
       "      <td>Arches National Park</td>\n",
       "      <td>UT</td>\n",
       "      <td>76519</td>\n",
       "      <td>38.68</td>\n",
       "      <td>-109.57</td>\n",
       "    </tr>\n",
       "  </tbody>\n",
       "</table>\n",
       "</div>"
      ],
      "text/plain": [
       "  Park Code             Park Name State  Acres  Latitude  Longitude\n",
       "0      ACAD  Acadia National Park    ME  47390     44.35     -68.21\n",
       "1      ARCH  Arches National Park    UT  76519     38.68    -109.57"
      ]
     },
     "execution_count": 9,
     "metadata": {},
     "output_type": "execute_result"
    }
   ],
   "source": [
    "parks.describe()\n",
    "parks.dtypes\n",
    "parks.head(2)"
   ]
  },
  {
   "cell_type": "code",
   "execution_count": 14,
   "metadata": {},
   "outputs": [
    {
     "data": {
      "text/html": [
       "<div>\n",
       "<style scoped>\n",
       "    .dataframe tbody tr th:only-of-type {\n",
       "        vertical-align: middle;\n",
       "    }\n",
       "\n",
       "    .dataframe tbody tr th {\n",
       "        vertical-align: top;\n",
       "    }\n",
       "\n",
       "    .dataframe thead th {\n",
       "        text-align: right;\n",
       "    }\n",
       "</style>\n",
       "<table border=\"1\" class=\"dataframe\">\n",
       "  <thead>\n",
       "    <tr style=\"text-align: right;\">\n",
       "      <th></th>\n",
       "      <th>Species ID</th>\n",
       "      <th>Park Name</th>\n",
       "      <th>Category</th>\n",
       "      <th>Order</th>\n",
       "      <th>Family</th>\n",
       "      <th>Scientific Name</th>\n",
       "      <th>Common Names</th>\n",
       "      <th>Record Status</th>\n",
       "      <th>Occurrence</th>\n",
       "      <th>Nativeness</th>\n",
       "      <th>Abundance</th>\n",
       "      <th>Seasonality</th>\n",
       "      <th>Conservation Status</th>\n",
       "      <th>Unnamed: 13</th>\n",
       "    </tr>\n",
       "  </thead>\n",
       "  <tbody>\n",
       "    <tr>\n",
       "      <th>0</th>\n",
       "      <td>ACAD-1000</td>\n",
       "      <td>Acadia National Park</td>\n",
       "      <td>Mammal</td>\n",
       "      <td>Artiodactyla</td>\n",
       "      <td>Cervidae</td>\n",
       "      <td>Alces alces</td>\n",
       "      <td>Moose</td>\n",
       "      <td>Approved</td>\n",
       "      <td>Present</td>\n",
       "      <td>Native</td>\n",
       "      <td>Rare</td>\n",
       "      <td>Resident</td>\n",
       "      <td>NaN</td>\n",
       "      <td>NaN</td>\n",
       "    </tr>\n",
       "    <tr>\n",
       "      <th>1</th>\n",
       "      <td>ACAD-1001</td>\n",
       "      <td>Acadia National Park</td>\n",
       "      <td>Mammal</td>\n",
       "      <td>Artiodactyla</td>\n",
       "      <td>Cervidae</td>\n",
       "      <td>Odocoileus virginianus</td>\n",
       "      <td>Northern White-Tailed Deer, Virginia Deer, Whi...</td>\n",
       "      <td>Approved</td>\n",
       "      <td>Present</td>\n",
       "      <td>Native</td>\n",
       "      <td>Abundant</td>\n",
       "      <td>NaN</td>\n",
       "      <td>NaN</td>\n",
       "      <td>NaN</td>\n",
       "    </tr>\n",
       "  </tbody>\n",
       "</table>\n",
       "</div>"
      ],
      "text/plain": [
       "  Species ID             Park Name Category         Order    Family  \\\n",
       "0  ACAD-1000  Acadia National Park   Mammal  Artiodactyla  Cervidae   \n",
       "1  ACAD-1001  Acadia National Park   Mammal  Artiodactyla  Cervidae   \n",
       "\n",
       "          Scientific Name                                       Common Names  \\\n",
       "0             Alces alces                                              Moose   \n",
       "1  Odocoileus virginianus  Northern White-Tailed Deer, Virginia Deer, Whi...   \n",
       "\n",
       "  Record Status Occurrence Nativeness Abundance Seasonality  \\\n",
       "0      Approved    Present     Native      Rare    Resident   \n",
       "1      Approved    Present     Native  Abundant         NaN   \n",
       "\n",
       "  Conservation Status Unnamed: 13  \n",
       "0                 NaN         NaN  \n",
       "1                 NaN         NaN  "
      ]
     },
     "execution_count": 14,
     "metadata": {},
     "output_type": "execute_result"
    }
   ],
   "source": [
    "species.describe()\n",
    "species.dtypes #todos los datos son object\n",
    "species.head(2)"
   ]
  },
  {
   "cell_type": "code",
   "execution_count": null,
   "metadata": {},
   "outputs": [],
   "source": []
  }
 ],
 "metadata": {
  "kernelspec": {
   "display_name": "Python 3",
   "language": "python",
   "name": "python3"
  },
  "language_info": {
   "codemirror_mode": {
    "name": "ipython",
    "version": 3
   },
   "file_extension": ".py",
   "mimetype": "text/x-python",
   "name": "python",
   "nbconvert_exporter": "python",
   "pygments_lexer": "ipython3",
   "version": "3.7.3"
  }
 },
 "nbformat": 4,
 "nbformat_minor": 2
}
